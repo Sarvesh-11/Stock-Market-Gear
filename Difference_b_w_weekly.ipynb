{
  "cells": [
    {
      "cell_type": "code",
      "execution_count": 9,
      "metadata": {
        "colab": {
          "base_uri": "https://localhost:8080/"
        },
        "id": "ZuTg7jn12HzL",
        "outputId": "10f4a3dc-fac3-41ae-92b5-4f22b33cd633"
      },
      "outputs": [
        {
          "name": "stdout",
          "output_type": "stream",
          "text": [
            "Requirement already satisfied: inline in c:\\users\\sarvesh\\appdata\\local\\programs\\python\\python310\\lib\\site-packages (0.0.1)\n",
            "Note: you may need to restart the kernel to use updated packages.\n"
          ]
        }
      ],
      "source": [
        "pip install inline"
      ]
    },
    {
      "cell_type": "code",
      "execution_count": 10,
      "metadata": {
        "id": "Idd-BARL2DuK"
      },
      "outputs": [],
      "source": [
        "#Amazone stock price prediction\n",
        "import inline as inline\n",
        "import matplotlib\n",
        "import pandas as pd\n",
        "import numpy as np\n",
        "import seaborn as sns\n",
        "import matplotlib.pyplot as plt\n",
        "import matplotlib.dates as mdates\n"
      ]
    },
    {
      "cell_type": "code",
      "execution_count": 11,
      "metadata": {
        "id": "2Xeq2pNw2Q5V"
      },
      "outputs": [],
      "source": [
        "# reading CSV file\n",
        "s1=pd.read_csv(\"dataset/HistoricalData_AMZN.csv\")\n",
        "# seting date as a index\n",
        "s1_2=pd.read_csv(\"dataset/HistoricalData_AMZN.csv\",header=0, index_col=\"Date\",parse_dates=True)\n"
      ]
    },
    {
      "cell_type": "code",
      "execution_count": 12,
      "metadata": {
        "colab": {
          "base_uri": "https://localhost:8080/",
          "height": 301
        },
        "id": "M9f6meGS2SOy",
        "outputId": "8506894f-9f40-4d14-e69a-33a616871ff8"
      },
      "outputs": [
        {
          "data": {
            "image/png": "[encoded data removed]",
            "text/plain": [
              "<Figure size 432x288 with 1 Axes>"
            ]
          },
          "metadata": {
            "needs_background": "light"
          },
          "output_type": "display_data"
        }
      ],
      "source": [
        "# resampling of data\n",
        "# Analysing Difference between Levels(Resampling Weekly)\n",
        "# Difference Between Open value and close value\n",
        "# this will give better pitcher for examine the company whether profit or lose\n",
        "s1_2[\"diff\"]=s1_2[\"Open\"]-s1_2[\"Close/Last\"]\n",
        "s1_diff=s1_2.resample(\"W\").mean()\n",
        "plt.scatter(s1_diff.loc[\"2021-01-01\":\"2021-06-09\"].index, s1_diff.loc[\"2021-01-01\":\"2021-06-09\"][\"diff\"])\n",
        "plt.gca().xaxis.set_major_formatter(mdates.DateFormatter(\"%y-%m-%d\"))\n",
        "plt.gca().xaxis.set_major_locator(mdates.MonthLocator())\n",
        "plt.xticks(rotation=90)\n",
        "#plt.show()\n",
        "plt.savefig(\"DifferenceBetweenOpenCloseResamplingWeekly.png\")\n"
      ]
    }
  ],
  "metadata": {
    "colab": {
      "name": "Difference b/w weekly.ipynb",
      "provenance": []
    },
    "kernelspec": {
      "display_name": "Python 3.10.4 64-bit",
      "language": "python",
      "name": "python3"
    },
    "language_info": {
      "codemirror_mode": {
        "name": "ipython",
        "version": 3
      },
      "file_extension": ".py",
      "mimetype": "text/x-python",
      "name": "python",
      "nbconvert_exporter": "python",
      "pygments_lexer": "ipython3",
      "version": "3.10.4"
    },
    "vscode": {
      "interpreter": {
        "hash": "dcda1772642fc43ae63003bbd279acfea068d71f2b8ee3a349be1704f53287ff"
      }
    }
  },
  "nbformat": 4,
  "nbformat_minor": 0
}
