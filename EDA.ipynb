{
  "cells": [
    {
      "cell_type": "code",
      "execution_count": 1,
      "metadata": {
        "colab": {
          "base_uri": "https://localhost:8080/"
        },
        "id": "eUyzoWsZxbgT",
        "outputId": "f1e200d6-b59c-4d00-d078-8929383b72b2"
      },
      "outputs": [
        {
          "name": "stdout",
          "output_type": "stream",
          "text": [
            "Requirement already satisfied: inline in c:\\users\\sarvesh\\appdata\\local\\programs\\python\\python310\\lib\\site-packages (0.0.1)\n",
            "Note: you may need to restart the kernel to use updated packages.\n"
          ]
        }
      ],
      "source": [
        "pip install inline"
      ]
    },
    {
      "cell_type": "code",
      "execution_count": 2,
      "metadata": {
        "id": "lBBbkPxoRhFb"
      },
      "outputs": [],
      "source": [
        "#Amazone stock price prediction\n",
        "import inline as inline\n",
        "import matplotlib\n",
        "import pandas as pd\n",
        "import numpy as np\n",
        "import seaborn as sns\n",
        "import matplotlib.pyplot as plt\n",
        "import matplotlib.dates as mdates"
      ]
    },
    {
      "cell_type": "code",
      "execution_count": 3,
      "metadata": {
        "id": "N8rrYpZpx5uS"
      },
      "outputs": [],
      "source": [
        "# reading CSV file\n",
        "s1=pd.read_csv(\"dataset/HistoricalData_AMZN.csv\")"
      ]
    },
    {
      "cell_type": "code",
      "execution_count": 4,
      "metadata": {
        "colab": {
          "base_uri": "https://localhost:8080/"
        },
        "id": "K7ClT_C6x9kD",
        "outputId": "288d58c5-7a4e-44fb-cf2f-6a0ad4f169c8"
      },
      "outputs": [
        {
          "name": "stdout",
          "output_type": "stream",
          "text": [
            "            Close/Last   Volume     Open     High      Low\n",
            "Date                                                      \n",
            "2021-06-09     3281.15  2455530  3272.87  3297.58  3270.70\n",
            "2021-06-08     3264.11  3416730  3222.61  3279.53  3218.01\n",
            "2021-06-07     3198.01  2215756  3197.33  3208.00  3172.20\n",
            "2021-06-04     3206.22  2249749  3212.00  3221.00  3198.81\n",
            "2021-06-03     3187.01  2398293  3204.23  3214.44  3184.03\n",
            "2021-06-02     3233.99  2014524  3223.10  3235.00  3208.00\n",
            "2021-06-01     3218.65  2430045  3243.50  3250.98  3209.06\n",
            "2021-05-28     3223.07  2331509  3242.00  3247.99  3219.70\n",
            "2021-05-27     3230.11  2561157  3256.00  3260.36  3230.04\n",
            "2021-05-26     3265.16  2383986  3274.59  3295.73  3258.51\n",
            "2021-05-25     3259.05  3261109  3266.67  3279.82  3213.76\n",
            "2021-05-24     3244.99  2422813  3215.50  3257.95  3210.50\n",
            "2021-05-21     3203.08  4104882  3250.00  3256.69  3197.01\n",
            "2021-05-20     3247.68  2633192  3244.40  3259.68  3236.18\n",
            "2021-05-19     3231.80  2679708  3195.00  3234.75  3184.00\n",
            "2021-05-18     3232.28  2828391  3292.58  3312.00  3230.37\n",
            "2021-05-17     3270.39  3685599  3245.93  3292.75  3234.59\n",
            "2021-05-14     3222.90  3325022  3185.56  3228.86  3183.00\n",
            "2021-05-13     3161.47  3356877  3185.47  3203.84  3133.00\n",
            "2021-05-12     3151.94  4936410  3185.00  3207.94  3133.10\n",
            "            Close/Last   Volume    Open    High     Low\n",
            "Date                                                   \n",
            "2011-06-16      183.65  6025431  185.74  187.00  181.59\n",
            "2011-06-15      185.98  6310918  188.04  192.45  185.30\n",
            "2011-06-14      189.96  3952911  188.99  190.72  187.07\n",
            "2011-06-13      186.29  3867735  186.81  189.31  184.86\n",
            "2011-06-10      186.53  3753267  189.25  190.77  186.28\n",
            "        Close/Last        Volume         Open         High          Low\n",
            "count  2516.000000  2.516000e+03  2516.000000  2516.000000  2516.000000\n",
            "mean   1063.464483  4.207630e+06  1063.903971  1074.999662  1051.288883\n",
            "std     929.012066  2.295011e+06   930.056079   940.351050   917.970041\n",
            "min     173.100000  8.813370e+05   169.620000   174.550000   166.970000\n",
            "25%     306.772500  2.737498e+06   306.977500   310.787500   303.415000\n",
            "50%     715.610000  3.615334e+06   715.610000   720.155000   711.240000\n",
            "75%    1735.715000  4.936622e+06  1737.780000  1750.167500  1713.767500\n",
            "max    3531.450000  2.412413e+07  3547.000000  3554.000000  3486.690000\n",
            "Close/Last    0\n",
            "Volume        0\n",
            "Open          0\n",
            "High          0\n",
            "Low           0\n",
            "dtype: int64\n",
            "Close/Last    2483\n",
            "Volume        2515\n",
            "Open          2427\n",
            "High          2451\n",
            "Low           2464\n",
            "dtype: int64\n"
          ]
        }
      ],
      "source": [
        "# seting date as a index\n",
        "s1=pd.read_csv(\"dataset/HistoricalData_AMZN.csv\",header=0,index_col=\"Date\",parse_dates=True)\n",
        "\n",
        "# understanding the data\n",
        "#s1.head()\n",
        "print(s1.head(20))\n",
        "print(s1.tail())\n",
        "print(s1.describe())\n",
        "\n",
        "# cleaning data\n",
        "missing_val=s1.isnull().sum()\n",
        "print(missing_val)\n",
        "\n",
        "# there is no missing value or missing data\n",
        "# checking for unique value\n",
        "print(s1.nunique())"
      ]
    },
    {
      "cell_type": "code",
      "execution_count": 5,
      "metadata": {
        "colab": {
          "base_uri": "https://localhost:8080/",
          "height": 281
        },
        "id": "zOD1Y_0Kx_j5",
        "outputId": "c58d32a4-a849-402f-9515-712e464681e8"
      },
      "outputs": [
        {
          "data": {
            "image/png": "[encoded data removed]",
            "text/plain": [
              "<Figure size 432x288 with 1 Axes>"
            ]
          },
          "metadata": {
            "needs_background": "light"
          },
          "output_type": "display_data"
        }
      ],
      "source": [
        "# Time serise Data\n",
        "plt.plot(s1.index, s1[\"Close/Last\"])\n",
        "plt.gca().xaxis.set_major_formatter(mdates.DateFormatter(\"%Y\"))\n",
        "plt.gca().xaxis.set_major_locator(mdates.YearLocator()) # formatting data for plotting\n",
        "plt.grid(True) # to read data more clearly on the graph\n",
        "plt.xticks(rotation=90) # rotating dates to 90 degree so that we can read more clearly\n",
        "#plt.show()\n",
        "plt.savefig(\"ClosePriceOnGraphEDA.png\")"
      ]
    }
  ],
  "metadata": {
    "colab": {
      "name": "EDA.ipynb",
      "provenance": []
    },
    "kernelspec": {
      "display_name": "Python 3.10.4 64-bit",
      "language": "python",
      "name": "python3"
    },
    "language_info": {
      "codemirror_mode": {
        "name": "ipython",
        "version": 3
      },
      "file_extension": ".py",
      "mimetype": "text/x-python",
      "name": "python",
      "nbconvert_exporter": "python",
      "pygments_lexer": "ipython3",
      "version": "3.10.4"
    },
    "vscode": {
      "interpreter": {
        "hash": "dcda1772642fc43ae63003bbd279acfea068d71f2b8ee3a349be1704f53287ff"
      }
    }
  },
  "nbformat": 4,
  "nbformat_minor": 0
}
