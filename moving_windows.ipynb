{
  "cells": [
    {
      "cell_type": "code",
      "execution_count": 1,
      "metadata": {
        "colab": {
          "base_uri": "https://localhost:8080/"
        },
        "id": "IU5iyFjs2qck",
        "outputId": "55cadaa2-eec6-4738-ad8d-65b88eef29c0"
      },
      "outputs": [
        {
          "name": "stdout",
          "output_type": "stream",
          "text": [
            "Requirement already satisfied: inline in c:\\users\\sarvesh\\appdata\\local\\programs\\python\\python310\\lib\\site-packages (0.0.1)\n",
            "Note: you may need to restart the kernel to use updated packages.\n"
          ]
        }
      ],
      "source": [
        "pip install inline"
      ]
    },
    {
      "cell_type": "code",
      "execution_count": 2,
      "metadata": {
        "id": "GLOKYq0_2e-2"
      },
      "outputs": [],
      "source": [
        "#Amazone stock price prediction\n",
        "import inline as inline\n",
        "import matplotlib\n",
        "import pandas as pd\n",
        "import numpy as np\n",
        "import seaborn as sns\n",
        "import matplotlib.pyplot as plt\n",
        "import matplotlib.dates as mdates\n"
      ]
    },
    {
      "cell_type": "code",
      "execution_count": 3,
      "metadata": {
        "id": "qgxQ8Ur12mZm"
      },
      "outputs": [],
      "source": [
        "# reading CSV file\n",
        "s1=pd.read_csv(\"dataset/HistoricalData_AMZN.csv\")\n",
        "# seting date as a index\n",
        "s1_2=pd.read_csv(\"dataset/HistoricalData_AMZN.csv\",header=0, index_col=\"Date\",parse_dates=True)"
      ]
    },
    {
      "cell_type": "code",
      "execution_count": 4,
      "metadata": {
        "colab": {
          "base_uri": "https://localhost:8080/",
          "height": 402
        },
        "id": "nFPIkcNF2ojc",
        "outputId": "72af4862-821e-464d-ab39-21af646224f1"
      },
      "outputs": [
        {
          "name": "stdout",
          "output_type": "stream",
          "text": [
            "            Close/Last\n",
            "Date                  \n",
            "2021-06-09    0.000000\n",
            "2021-06-08   -0.005193\n",
            "2021-06-07   -0.020251\n",
            "2021-06-04    0.002567\n",
            "2021-06-03   -0.005991\n"
          ]
        },
        {
          "data": {
            "image/png": "[encoded data removed]",
            "text/plain": [
              "<Figure size 432x288 with 1 Axes>"
            ]
          },
          "metadata": {
            "needs_background": "light"
          },
          "output_type": "display_data"
        }
      ],
      "source": [
        "# Moving windows\n",
        "# to analyse long term trends\n",
        "# with respect to Daily percentages\n",
        "daily_close_s1=s1_2[[\"Close/Last\"]]\n",
        "# daily returns\n",
        "# pct means percentage\n",
        "daily_pct_change_s1=daily_close_s1.pct_change()\n",
        "# replacing NA values with 0\n",
        "daily_pct_change_s1.fillna(0,inplace=True)\n",
        "print(daily_pct_change_s1.head())\n",
        "# lets plot the histogram\n",
        "daily_pct_change_s1.hist(bins=50)\n",
        "#plt.show()\n",
        "plt.savefig(\"percentageChangeHistogram\")"
      ]
    }
  ],
  "metadata": {
    "colab": {
      "name": "moving windows.ipynb",
      "provenance": []
    },
    "kernelspec": {
      "display_name": "Python 3.10.4 64-bit",
      "language": "python",
      "name": "python3"
    },
    "language_info": {
      "codemirror_mode": {
        "name": "ipython",
        "version": 3
      },
      "file_extension": ".py",
      "mimetype": "text/x-python",
      "name": "python",
      "nbconvert_exporter": "python",
      "pygments_lexer": "ipython3",
      "version": "3.10.4"
    },
    "vscode": {
      "interpreter": {
        "hash": "dcda1772642fc43ae63003bbd279acfea068d71f2b8ee3a349be1704f53287ff"
      }
    }
  },
  "nbformat": 4,
  "nbformat_minor": 0
}
